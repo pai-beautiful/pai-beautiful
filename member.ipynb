{
 "cells": [
  {
   "cell_type": "code",
   "execution_count": 1,
   "metadata": {},
   "outputs": [],
   "source": [
    "from flask import Flask, request, jsonify, render_template\n",
    "import pandas as pd\n",
    "from gevent.pywsgi import WSGIServer\n",
    "from flask_cors import CORS"
   ]
  },
  {
   "cell_type": "code",
   "execution_count": 2,
   "metadata": {},
   "outputs": [
    {
     "data": {
      "text/plain": [
       "<flask_cors.extension.CORS at 0x12ff26e10>"
      ]
     },
     "execution_count": 2,
     "metadata": {},
     "output_type": "execute_result"
    }
   ],
   "source": [
    "app = Flask(__name__)\n",
    "CORS(app) "
   ]
  },
  {
   "cell_type": "code",
   "execution_count": 3,
   "metadata": {},
   "outputs": [],
   "source": [
    "df = pd.read_excel('Membership.xlsx')"
   ]
  },
  {
   "cell_type": "code",
   "execution_count": 4,
   "metadata": {},
   "outputs": [
    {
     "data": {
      "text/html": [
       "<div>\n",
       "<style scoped>\n",
       "    .dataframe tbody tr th:only-of-type {\n",
       "        vertical-align: middle;\n",
       "    }\n",
       "\n",
       "    .dataframe tbody tr th {\n",
       "        vertical-align: top;\n",
       "    }\n",
       "\n",
       "    .dataframe thead th {\n",
       "        text-align: right;\n",
       "    }\n",
       "</style>\n",
       "<table border=\"1\" class=\"dataframe\">\n",
       "  <thead>\n",
       "    <tr style=\"text-align: right;\">\n",
       "      <th></th>\n",
       "      <th>Membership category</th>\n",
       "      <th>Name</th>\n",
       "      <th>ID</th>\n",
       "      <th>HKBU Email</th>\n",
       "      <th>Study level</th>\n",
       "      <th>Phone</th>\n",
       "      <th>I agree to join HKBUCSSA, actively participate in activities organized by HKBUCSSA and receive emails about HKBUCSSA.</th>\n",
       "    </tr>\n",
       "  </thead>\n",
       "  <tbody>\n",
       "    <tr>\n",
       "      <th>0</th>\n",
       "      <td>HKBU Current Student</td>\n",
       "      <td>侯国伟</td>\n",
       "      <td>24417920</td>\n",
       "      <td>24417920@life.hkbu.edu.hk</td>\n",
       "      <td>Taught Postgraduate</td>\n",
       "      <td>13121153211</td>\n",
       "      <td>1</td>\n",
       "    </tr>\n",
       "    <tr>\n",
       "      <th>1</th>\n",
       "      <td>HKBU Current Student</td>\n",
       "      <td>Yang Ruizhi</td>\n",
       "      <td>24466859</td>\n",
       "      <td>24466859@life.hkbu.edu.hk</td>\n",
       "      <td>Taught Postgraduate</td>\n",
       "      <td>59561580</td>\n",
       "      <td>1</td>\n",
       "    </tr>\n",
       "    <tr>\n",
       "      <th>2</th>\n",
       "      <td>HKBU Current Student</td>\n",
       "      <td>zhouyuhan</td>\n",
       "      <td>24439347</td>\n",
       "      <td>24439347@life.hkbu.edu.hk</td>\n",
       "      <td>Taught Postgraduate</td>\n",
       "      <td>62793671</td>\n",
       "      <td>1</td>\n",
       "    </tr>\n",
       "    <tr>\n",
       "      <th>3</th>\n",
       "      <td>HKBU Current Student</td>\n",
       "      <td>常想</td>\n",
       "      <td>24225894</td>\n",
       "      <td>24225894@life.hkbu.edu.hk</td>\n",
       "      <td>Undergraduate</td>\n",
       "      <td>59560762</td>\n",
       "      <td>1</td>\n",
       "    </tr>\n",
       "    <tr>\n",
       "      <th>4</th>\n",
       "      <td>HKBU Current Student</td>\n",
       "      <td>SHEN LAN</td>\n",
       "      <td>24448850</td>\n",
       "      <td>24448850@life.hkbu.edu.hk</td>\n",
       "      <td>Taught Postgraduate</td>\n",
       "      <td>59579701</td>\n",
       "      <td>1</td>\n",
       "    </tr>\n",
       "    <tr>\n",
       "      <th>...</th>\n",
       "      <td>...</td>\n",
       "      <td>...</td>\n",
       "      <td>...</td>\n",
       "      <td>...</td>\n",
       "      <td>...</td>\n",
       "      <td>...</td>\n",
       "      <td>...</td>\n",
       "    </tr>\n",
       "    <tr>\n",
       "      <th>241</th>\n",
       "      <td>HKBU Current Student</td>\n",
       "      <td>Deng Xiaohang</td>\n",
       "      <td>24405515</td>\n",
       "      <td>24405515@life.hkbu.edu.hk</td>\n",
       "      <td>Taught Postgraduate</td>\n",
       "      <td>54647822</td>\n",
       "      <td>1</td>\n",
       "    </tr>\n",
       "    <tr>\n",
       "      <th>242</th>\n",
       "      <td>HKBU Current Student</td>\n",
       "      <td>LiuHanfei</td>\n",
       "      <td>24470651</td>\n",
       "      <td>24470651@life.hkbu.edu.hk</td>\n",
       "      <td>Taught Postgraduate</td>\n",
       "      <td>63131654</td>\n",
       "      <td>1</td>\n",
       "    </tr>\n",
       "    <tr>\n",
       "      <th>243</th>\n",
       "      <td>HKBU Current Student</td>\n",
       "      <td>Luo Qi</td>\n",
       "      <td>24475718</td>\n",
       "      <td>24475718@life.hkbu.edu.hk</td>\n",
       "      <td>Taught Postgraduate</td>\n",
       "      <td>64176692</td>\n",
       "      <td>1</td>\n",
       "    </tr>\n",
       "    <tr>\n",
       "      <th>244</th>\n",
       "      <td>HKBU Current Student</td>\n",
       "      <td>Liu jaili</td>\n",
       "      <td>24451681</td>\n",
       "      <td>24451681@life.hkbu.edu.hk</td>\n",
       "      <td>Taught Postgraduate</td>\n",
       "      <td>68731262</td>\n",
       "      <td>1</td>\n",
       "    </tr>\n",
       "    <tr>\n",
       "      <th>245</th>\n",
       "      <td>HKBU Current Student</td>\n",
       "      <td>蔡怡野</td>\n",
       "      <td>24204307</td>\n",
       "      <td>24204307@life.hkbu.edu.hk</td>\n",
       "      <td>Undergraduate</td>\n",
       "      <td>59568764</td>\n",
       "      <td>1</td>\n",
       "    </tr>\n",
       "  </tbody>\n",
       "</table>\n",
       "<p>246 rows × 7 columns</p>\n",
       "</div>"
      ],
      "text/plain": [
       "      Membership category           Name        ID                 HKBU Email  \\\n",
       "0    HKBU Current Student            侯国伟  24417920  24417920@life.hkbu.edu.hk   \n",
       "1    HKBU Current Student    Yang Ruizhi  24466859  24466859@life.hkbu.edu.hk   \n",
       "2    HKBU Current Student      zhouyuhan  24439347  24439347@life.hkbu.edu.hk   \n",
       "3    HKBU Current Student             常想  24225894  24225894@life.hkbu.edu.hk   \n",
       "4    HKBU Current Student       SHEN LAN  24448850  24448850@life.hkbu.edu.hk   \n",
       "..                    ...            ...       ...                        ...   \n",
       "241  HKBU Current Student  Deng Xiaohang  24405515  24405515@life.hkbu.edu.hk   \n",
       "242  HKBU Current Student      LiuHanfei  24470651  24470651@life.hkbu.edu.hk   \n",
       "243  HKBU Current Student         Luo Qi  24475718  24475718@life.hkbu.edu.hk   \n",
       "244  HKBU Current Student      Liu jaili  24451681  24451681@life.hkbu.edu.hk   \n",
       "245  HKBU Current Student            蔡怡野  24204307  24204307@life.hkbu.edu.hk   \n",
       "\n",
       "             Study level        Phone  \\\n",
       "0    Taught Postgraduate  13121153211   \n",
       "1    Taught Postgraduate     59561580   \n",
       "2    Taught Postgraduate     62793671   \n",
       "3          Undergraduate     59560762   \n",
       "4    Taught Postgraduate     59579701   \n",
       "..                   ...          ...   \n",
       "241  Taught Postgraduate     54647822   \n",
       "242  Taught Postgraduate     63131654   \n",
       "243  Taught Postgraduate     64176692   \n",
       "244  Taught Postgraduate     68731262   \n",
       "245        Undergraduate     59568764   \n",
       "\n",
       "     I agree to join HKBUCSSA, actively participate in activities organized by HKBUCSSA and receive emails about HKBUCSSA.  \n",
       "0                                                    1                                                                      \n",
       "1                                                    1                                                                      \n",
       "2                                                    1                                                                      \n",
       "3                                                    1                                                                      \n",
       "4                                                    1                                                                      \n",
       "..                                                 ...                                                                      \n",
       "241                                                  1                                                                      \n",
       "242                                                  1                                                                      \n",
       "243                                                  1                                                                      \n",
       "244                                                  1                                                                      \n",
       "245                                                  1                                                                      \n",
       "\n",
       "[246 rows x 7 columns]"
      ]
     },
     "execution_count": 4,
     "metadata": {},
     "output_type": "execute_result"
    }
   ],
   "source": [
    "df"
   ]
  },
  {
   "cell_type": "code",
   "execution_count": 5,
   "metadata": {},
   "outputs": [],
   "source": [
    "@app.route('/')\n",
    "def home():\n",
    "    return render_template('会员查询.html')  # 一个简单的查询页面\n",
    "\n",
    "@app.route('/check_member', methods=['POST'])\n",
    "def check_member():\n",
    "    user_input = request.form.get('query').strip()  # 获取用户输入并去掉首尾空格\n",
    "    \n",
    "    # 先尝试根据名字查询\n",
    "    if user_input in df['Name'].values:\n",
    "        return jsonify({'status': 'success', 'message': f'{user_input} 是HKBUCSSA会员'})\n",
    "    \n",
    "    # 如果名字查询不到，尝试根据ID查询\n",
    "    elif user_input in df['ID'].astype(str).values:  # 将ID列转换为字符串匹配\n",
    "        student_name = df.loc[df['ID'].astype(str) == user_input, 'Name'].iloc[0]\n",
    "        return jsonify({'status': 'success', 'message': f'ID为 {user_input} 的会员是 {student_name}'})\n",
    "    \n",
    "    else:\n",
    "        return jsonify({'status': 'fail', 'message': '未找到会员信息'})\n"
   ]
  },
  {
   "cell_type": "code",
   "execution_count": 6,
   "metadata": {},
   "outputs": [
    {
     "name": "stdout",
     "output_type": "stream",
     "text": [
      "Server is running on http://localhost:5050\n"
     ]
    },
    {
     "name": "stderr",
     "output_type": "stream",
     "text": [
      "::1 - - [2024-11-12 11:18:59] \"POST /check_member HTTP/1.1\" 200 252 0.003590\n",
      "KeyboardInterrupt\n",
      "2024-11-12T03:19:55Z\n"
     ]
    },
    {
     "ename": "KeyboardInterrupt",
     "evalue": "",
     "output_type": "error",
     "traceback": [
      "\u001b[0;31m---------------------------------------------------------------------------\u001b[0m",
      "\u001b[0;31mKeyboardInterrupt\u001b[0m                         Traceback (most recent call last)",
      "Cell \u001b[0;32mIn[6], line 5\u001b[0m\n\u001b[1;32m      3\u001b[0m http_server \u001b[38;5;241m=\u001b[39m WSGIServer((\u001b[38;5;124m'\u001b[39m\u001b[38;5;124m'\u001b[39m, \u001b[38;5;241m5050\u001b[39m), app)\n\u001b[1;32m      4\u001b[0m \u001b[38;5;28mprint\u001b[39m(\u001b[38;5;124m\"\u001b[39m\u001b[38;5;124mServer is running on http://localhost:5050\u001b[39m\u001b[38;5;124m\"\u001b[39m)\n\u001b[0;32m----> 5\u001b[0m http_server\u001b[38;5;241m.\u001b[39mserve_forever()\n",
      "File \u001b[0;32m~/anaconda3/lib/python3.11/site-packages/gevent/baseserver.py:400\u001b[0m, in \u001b[0;36mBaseServer.serve_forever\u001b[0;34m(self, stop_timeout)\u001b[0m\n\u001b[1;32m    398\u001b[0m     \u001b[38;5;28mself\u001b[39m\u001b[38;5;241m.\u001b[39mstart()\n\u001b[1;32m    399\u001b[0m \u001b[38;5;28;01mtry\u001b[39;00m:\n\u001b[0;32m--> 400\u001b[0m     \u001b[38;5;28mself\u001b[39m\u001b[38;5;241m.\u001b[39m_stop_event\u001b[38;5;241m.\u001b[39mwait()\n\u001b[1;32m    401\u001b[0m \u001b[38;5;28;01mfinally\u001b[39;00m:\n\u001b[1;32m    402\u001b[0m     Greenlet\u001b[38;5;241m.\u001b[39mspawn(\u001b[38;5;28mself\u001b[39m\u001b[38;5;241m.\u001b[39mstop, timeout\u001b[38;5;241m=\u001b[39mstop_timeout)\u001b[38;5;241m.\u001b[39mjoin()\n",
      "File \u001b[0;32msrc/gevent/event.py:164\u001b[0m, in \u001b[0;36mgevent._gevent_cevent.Event.wait\u001b[0;34m()\u001b[0m\n",
      "File \u001b[0;32msrc/gevent/_abstract_linkable.py:521\u001b[0m, in \u001b[0;36mgevent._gevent_c_abstract_linkable.AbstractLinkable._wait\u001b[0;34m()\u001b[0m\n",
      "File \u001b[0;32msrc/gevent/_abstract_linkable.py:487\u001b[0m, in \u001b[0;36mgevent._gevent_c_abstract_linkable.AbstractLinkable._wait_core\u001b[0;34m()\u001b[0m\n",
      "File \u001b[0;32msrc/gevent/_abstract_linkable.py:490\u001b[0m, in \u001b[0;36mgevent._gevent_c_abstract_linkable.AbstractLinkable._wait_core\u001b[0;34m()\u001b[0m\n",
      "File \u001b[0;32msrc/gevent/_abstract_linkable.py:442\u001b[0m, in \u001b[0;36mgevent._gevent_c_abstract_linkable.AbstractLinkable._AbstractLinkable__wait_to_be_notified\u001b[0;34m()\u001b[0m\n",
      "File \u001b[0;32msrc/gevent/_abstract_linkable.py:451\u001b[0m, in \u001b[0;36mgevent._gevent_c_abstract_linkable.AbstractLinkable._switch_to_hub\u001b[0;34m()\u001b[0m\n",
      "File \u001b[0;32msrc/gevent/_greenlet_primitives.py:61\u001b[0m, in \u001b[0;36mgevent._gevent_c_greenlet_primitives.SwitchOutGreenletWithLoop.switch\u001b[0;34m()\u001b[0m\n",
      "File \u001b[0;32msrc/gevent/_greenlet_primitives.py:65\u001b[0m, in \u001b[0;36mgevent._gevent_c_greenlet_primitives.SwitchOutGreenletWithLoop.switch\u001b[0;34m()\u001b[0m\n",
      "File \u001b[0;32msrc/gevent/_gevent_c_greenlet_primitives.pxd:35\u001b[0m, in \u001b[0;36mgevent._gevent_c_greenlet_primitives._greenlet_switch\u001b[0;34m()\u001b[0m\n",
      "\u001b[0;31mKeyboardInterrupt\u001b[0m: "
     ]
    }
   ],
   "source": [
    "\n",
    "if __name__ == '__main__':\n",
    "    \n",
    "    http_server = WSGIServer(('', 5050), app)\n",
    "    print(\"Server is running on http://localhost:5050\")\n",
    "    http_server.serve_forever()"
   ]
  }
 ],
 "metadata": {
  "kernelspec": {
   "display_name": "base",
   "language": "python",
   "name": "python3"
  },
  "language_info": {
   "codemirror_mode": {
    "name": "ipython",
    "version": 3
   },
   "file_extension": ".py",
   "mimetype": "text/x-python",
   "name": "python",
   "nbconvert_exporter": "python",
   "pygments_lexer": "ipython3",
   "version": "3.11.4"
  }
 },
 "nbformat": 4,
 "nbformat_minor": 2
}
